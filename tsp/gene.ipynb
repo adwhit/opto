{
 "metadata": {
  "name": ""
 },
 "nbformat": 3,
 "nbformat_minor": 0,
 "worksheets": [
  {
   "cells": [
    {
     "cell_type": "code",
     "collapsed": false,
     "input": [
      "from graph_tool.all import *\n",
      "import numpy as np"
     ],
     "language": "python",
     "metadata": {},
     "outputs": [],
     "prompt_number": 28
    },
    {
     "cell_type": "code",
     "collapsed": false,
     "input": [
      "res = [4,32,83,95,78,92,52,63,20,90,49,97,27,1,79,\n",
      "45,17,34,88,54,86,62,25,82,44,31,51,3,89,13,\n",
      "93,99,22,18,30,74,10,26,9,72,47,40,94,81,23,\n",
      "8,33,85,48,87,73,67,28,2,37,65,43,71,19,15,\n",
      "75,14,53,46,24,68,98,39,55,59,21,70,60,66,64,\n",
      "96,12,50,41,57,5,91,29,80,38,16,77,42,7,0,\n",
      "36,58,6,56,69,61,76,35,84,11,]\n"
     ],
     "language": "python",
     "metadata": {},
     "outputs": [],
     "prompt_number": 49
    },
    {
     "cell_type": "code",
     "collapsed": false,
     "input": [
      "path = \"data/tsp_100_1\"\n",
      "input_data = open(path).read()\n",
      "lines = input_data.split(\"\\n\")\n",
      "nnodes = int(lines[0].strip())\n",
      "arr = [(float(n[0]), float(n[1])) for n in [line.split() for line in lines[1:] if line]]\n",
      "assert(len(res) == nnodes)"
     ],
     "language": "python",
     "metadata": {},
     "outputs": [],
     "prompt_number": 50
    },
    {
     "cell_type": "code",
     "collapsed": false,
     "input": [
      "g = Graph()\n",
      "g.add_vertex(nnodes)\n",
      "for ix in range(len(res)-1):\n",
      "    g.add_edge(g.vertex(res[ix]), g.vertex(res[ix+1]))\n",
      "g.add_edge(g.vertex(res[-1]), g.vertex(res[0]))"
     ],
     "language": "python",
     "metadata": {},
     "outputs": [
      {
       "metadata": {},
       "output_type": "pyout",
       "prompt_number": 51,
       "text": [
        "<Edge object with source '11' and target '4' at 0x38f6680>"
       ]
      }
     ],
     "prompt_number": 51
    },
    {
     "cell_type": "code",
     "collapsed": false,
     "input": [
      "locs = np.array(arr)\n",
      "pos = g.new_vertex_property(\"vector<float>\") \n",
      "pos.set_2d_array(locs.T)"
     ],
     "language": "python",
     "metadata": {},
     "outputs": [],
     "prompt_number": 52
    },
    {
     "cell_type": "code",
     "collapsed": false,
     "input": [
      "graph_draw(g, pos, vertex_size=10)"
     ],
     "language": "python",
     "metadata": {},
     "outputs": [
      {
       "metadata": {},
       "output_type": "pyout",
       "prompt_number": 53,
       "text": [
        "(<PropertyMap object with key type 'Vertex' and value type 'vector<double>', for Graph 0x38fa7d0, at 0x3993790>,\n",
        " <PropertyMap object with key type 'Vertex' and value type 'bool', for Graph 0x38fa7d0, at 0x38a1f50>)"
       ]
      }
     ],
     "prompt_number": 53
    },
    {
     "cell_type": "code",
     "collapsed": false,
     "input": [],
     "language": "python",
     "metadata": {},
     "outputs": []
    }
   ],
   "metadata": {}
  }
 ]
}