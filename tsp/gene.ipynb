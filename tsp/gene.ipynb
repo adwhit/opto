{
 "metadata": {
  "name": ""
 },
 "nbformat": 3,
 "nbformat_minor": 0,
 "worksheets": [
  {
   "cells": [
    {
     "cell_type": "code",
     "collapsed": false,
     "input": [
      "from graph_tool.all import *"
     ],
     "language": "python",
     "metadata": {},
     "outputs": [],
     "prompt_number": 5
    },
    {
     "cell_type": "code",
     "collapsed": false,
     "input": [
      "res = [68,71,72,72,213,215,4,3,254,255,68,69,73,209,\n",
      "9,216,7,3,253,254,61,64,73,80,14,220,8,251,0,255,57\n",
      ",56,74,86,201,222,242,242,250,242,55,24,21,20,100,186,\n",
      "222,241,239,246,53,24,26,38,105,223,223,241,237,236,49,\n",
      "27,43,37,163,165,228,136,232,234,30,29,44,36,162,112,\n",
      "228,230,233,233,30,29,32,34,140,151,116,126,126,\n",
      "128,30,31,30,142,144,145,123,123,125,126]"
     ],
     "language": "python",
     "metadata": {},
     "outputs": [],
     "prompt_number": 6
    },
    {
     "cell_type": "code",
     "collapsed": false,
     "input": [
      "restup = []\n",
      "for (i,v) in enumerate(res):\n",
      "    restup.append((i,v))\n",
      "restup = sorted(restup, key=lambda x:x[1])    "
     ],
     "language": "python",
     "metadata": {},
     "outputs": [],
     "prompt_number": 9
    },
    {
     "cell_type": "code",
     "collapsed": false,
     "input": [
      "g = Graph()\n",
      "g.add_vertex(len(restup))"
     ],
     "language": "python",
     "metadata": {},
     "outputs": [
      {
       "metadata": {},
       "output_type": "pyout",
       "prompt_number": 10,
       "text": [
        "<generator object <genexpr> at 0x5153550>"
       ]
      }
     ],
     "prompt_number": 10
    },
    {
     "cell_type": "code",
     "collapsed": false,
     "input": [
      "for ix in range(len(restup)-1):\n",
      "    g.add_edge(g.vertex(restup[ix][0]), g.vertex(restup[ix+1][0]))\n",
      "g.add_edge(g.vertex(restup[-1][0]), g.vertex(restup[0][0]))"
     ],
     "language": "python",
     "metadata": {},
     "outputs": [
      {
       "metadata": {},
       "output_type": "pyout",
       "prompt_number": 11,
       "text": [
        "<Edge object with source '29' and target '28' at 0x509a8c0>"
       ]
      }
     ],
     "prompt_number": 11
    },
    {
     "cell_type": "code",
     "collapsed": false,
     "input": [
      "locs = np.array([(x, y) for x in range(10) for y in range(10)])"
     ],
     "language": "python",
     "metadata": {},
     "outputs": [],
     "prompt_number": 34
    },
    {
     "cell_type": "code",
     "collapsed": false,
     "input": [
      "pos = "
     ],
     "language": "python",
     "metadata": {},
     "outputs": [],
     "prompt_number": 38
    },
    {
     "cell_type": "code",
     "collapsed": false,
     "input": [
      "pos.set_2d_array(locs.T)"
     ],
     "language": "python",
     "metadata": {},
     "outputs": [],
     "prompt_number": 36
    },
    {
     "cell_type": "code",
     "collapsed": false,
     "input": [
      "graph_draw(g, pos)"
     ],
     "language": "python",
     "metadata": {},
     "outputs": [
      {
       "metadata": {},
       "output_type": "pyout",
       "prompt_number": 39,
       "text": [
        "(<PropertyMap object with key type 'Vertex' and value type 'vector<double>', for Graph 0x50a0f10, at 0x5229390>,\n",
        " <PropertyMap object with key type 'Vertex' and value type 'bool', for Graph 0x50a0f10, at 0x5229bd0>)"
       ]
      }
     ],
     "prompt_number": 39
    },
    {
     "cell_type": "code",
     "collapsed": false,
     "input": [],
     "language": "python",
     "metadata": {},
     "outputs": []
    }
   ],
   "metadata": {}
  }
 ]
}