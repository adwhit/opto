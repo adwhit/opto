{
 "metadata": {
  "name": ""
 },
 "nbformat": 3,
 "nbformat_minor": 0,
 "worksheets": [
  {
   "cells": [
    {
     "cell_type": "code",
     "collapsed": false,
     "input": [
      "from graph_tool.all import *\n",
      "import numpy as np"
     ],
     "language": "python",
     "metadata": {},
     "outputs": [],
     "prompt_number": 22
    },
    {
     "cell_type": "code",
     "collapsed": false,
     "input": [
      "res = [80,96,16,91,4,69,13,28,76,53,63,85,6,46,45,36,1,33,60,97,93,12,0,65,10,81,73,75,27,31,56,58,67,98,42,9,71,47,37,7,83,66,39,74,57,24,55,3,51,17,84,72,79,90,52,22,8,38,70,25,19,40,43,44,99,35,92,54,5,88,20,87,77,21,32,11,29,26,18,23,49,82,30,94,59,41,48,68,15,86,78,95,61,89,2,50,34,64,62,14,]"
     ],
     "language": "python",
     "metadata": {},
     "outputs": [],
     "prompt_number": 23
    },
    {
     "cell_type": "code",
     "collapsed": false,
     "input": [
      "path = \"data/tsp_100_3\"\n",
      "input_data = open(path).read()\n",
      "lines = input_data.split(\"\\n\")\n",
      "nnodes = int(lines[0].strip())\n",
      "arr = [(float(n[0]), float(n[1])) for n in [line.split() for line in lines[1:] if line]]\n",
      "assert(len(res) == nnodes)"
     ],
     "language": "python",
     "metadata": {},
     "outputs": [],
     "prompt_number": 24
    },
    {
     "cell_type": "code",
     "collapsed": false,
     "input": [
      "g = Graph()\n",
      "g.add_vertex(nnodes)\n",
      "for ix in range(len(res)-1):\n",
      "    g.add_edge(g.vertex(res[ix]), g.vertex(res[ix+1]))\n",
      "g.add_edge(g.vertex(res[-1]), g.vertex(res[0]))"
     ],
     "language": "python",
     "metadata": {},
     "outputs": [
      {
       "metadata": {},
       "output_type": "pyout",
       "prompt_number": 25,
       "text": [
        "<Edge object with source '14' and target '80' at 0x38f6440>"
       ]
      }
     ],
     "prompt_number": 25
    },
    {
     "cell_type": "code",
     "collapsed": false,
     "input": [
      "locs = np.array(arr)\n",
      "pos = g.new_vertex_property(\"vector<float>\") \n",
      "pos.set_2d_array(locs.T)"
     ],
     "language": "python",
     "metadata": {},
     "outputs": [],
     "prompt_number": 26
    },
    {
     "cell_type": "code",
     "collapsed": false,
     "input": [
      "graph_draw(g, pos, vertex_size=10)"
     ],
     "language": "python",
     "metadata": {},
     "outputs": [],
     "prompt_number": "*"
    },
    {
     "cell_type": "code",
     "collapsed": false,
     "input": [],
     "language": "python",
     "metadata": {},
     "outputs": []
    }
   ],
   "metadata": {}
  }
 ]
}