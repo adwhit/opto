{
 "metadata": {
  "name": ""
 },
 "nbformat": 3,
 "nbformat_minor": 0,
 "worksheets": [
  {
   "cells": [
    {
     "cell_type": "code",
     "collapsed": false,
     "input": [
      "ls output"
     ],
     "language": "python",
     "metadata": {},
     "outputs": []
    },
    {
     "cell_type": "code",
     "collapsed": false,
     "input": [
      "from graph_tool.all import *\n",
      "import matplotlib.cm as cm\n",
      "import numpy as np"
     ],
     "language": "python",
     "metadata": {},
     "outputs": []
    },
    {
     "cell_type": "code",
     "collapsed": false,
     "input": [
      "rootpath = \"gc_20_3\"\n",
      "path = \"data/\" + rootpath\n",
      "lines = [line.strip() for line in open(path).readlines()]\n",
      "(nnodes, nedges) = (int(x) for x in lines[0].split())\n",
      "nodes = [(int(line.split()[0]), int(line.split()[1])) for line in lines[1:]]"
     ],
     "language": "python",
     "metadata": {},
     "outputs": []
    },
    {
     "cell_type": "code",
     "collapsed": false,
     "input": [
      "path2 = \"output/\" + rootpath\n",
      "lines = [line.strip() for line in open(path2).readlines()]\n",
      "colours = [[int(v)+1 for v in line.split()] for line in lines]\n",
      "ncolours = max(max(colours))\n",
      "cmapped = [[cm.Spectral(float(x)/ncolours) for x in col] for col in colours]\n",
      "first_set_vertex = colours[0].index(1)"
     ],
     "language": "python",
     "metadata": {},
     "outputs": []
    },
    {
     "cell_type": "code",
     "collapsed": false,
     "input": [
      "G = Graph(directed=False)\n",
      "G.add_vertex(nnodes)\n",
      "for (n1, n2) in nodes:\n",
      "    G.add_edge(n1, n2)"
     ],
     "language": "python",
     "metadata": {},
     "outputs": []
    },
    {
     "cell_type": "code",
     "collapsed": false,
     "input": [
      "layout = graph_tool.draw.fruchterman_reingold_layout(G)\n",
      "#layout = graph_tool.draw.radial_tree_layout(G, first_set_vertex)\n",
      "colour = G.new_vertex_property(\"vector<float>\")\n",
      "degree = G.degree_property_map(\"out\")"
     ],
     "language": "python",
     "metadata": {},
     "outputs": []
    },
    {
     "cell_type": "code",
     "collapsed": false,
     "input": [
      "#for x in range(nnodes-1, nnodes):  #for testing\n",
      "for x in range(nnodes):\n",
      "    colour.set_2d_array(np.array(cmapped[x]).T)\n",
      "    output = \"pics/%s_%03d.png\" % (rootpath, x)\n",
      "    graph_draw(G, layout, vertex_fill_color=colour, vertex_size=20, edge_pen_width=0.1, \n",
      "               vertex_halo=True, vertex_halo_color=degree, output= output, output_size=(800,800), vcmap=cm.Blues)"
     ],
     "language": "python",
     "metadata": {},
     "outputs": []
    }
   ],
   "metadata": {}
  }
 ]
}