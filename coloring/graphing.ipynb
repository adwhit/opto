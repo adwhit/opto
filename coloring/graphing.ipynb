{
 "metadata": {
  "name": "graphing"
 },
 "nbformat": 3,
 "nbformat_minor": 0,
 "worksheets": [
  {
   "cells": [
    {
     "cell_type": "code",
     "collapsed": false,
     "input": [
      "import networkx as nx\n",
      "import matplotlib.pyplot as plt"
     ],
     "language": "python",
     "metadata": {},
     "outputs": []
    },
    {
     "cell_type": "code",
     "collapsed": false,
     "input": [
      "path = \"data/gc_20_1\"\n",
      "lines = [line.strip() for line in open(path).readlines()]\n",
      "header = lines[0]\n",
      "nodes = [(int(line.split()[0]), int(line.split()[1])) for line in lines[1:]]\n",
      "print(header)\n"
     ],
     "language": "python",
     "metadata": {},
     "outputs": []
    },
    {
     "cell_type": "code",
     "collapsed": false,
     "input": [
      "G = nx.Graph()\n",
      "G.add_nodes_from(range(int(header.split()[0])))\n",
      "G.add_edges_from(nodes)\n",
      "print(G.number_of_nodes(),G.number_of_edges())"
     ],
     "language": "python",
     "metadata": {},
     "outputs": []
    },
    {
     "cell_type": "code",
     "collapsed": false,
     "input": [
      "pos = nx.spring_layout(G, iterations = 200)\n",
      "nx.draw(G,pos,node_color=range(20),node_size=800,cmap=plt.cm.Blues)"
     ],
     "language": "python",
     "metadata": {},
     "outputs": []
    },
    {
     "cell_type": "code",
     "collapsed": false,
     "input": [],
     "language": "python",
     "metadata": {},
     "outputs": []
    }
   ],
   "metadata": {}
  }
 ]
}